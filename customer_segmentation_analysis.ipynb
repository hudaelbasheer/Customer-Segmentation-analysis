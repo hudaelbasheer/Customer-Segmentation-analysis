{
 "cells": [
  {
   "cell_type": "code",
   "execution_count": 2,
   "metadata": {},
   "outputs": [],
   "source": [
    "import pandas as pd\n",
    "\n"
   ]
  },
  {
   "cell_type": "code",
   "execution_count": 4,
   "metadata": {},
   "outputs": [],
   "source": [
    "# Load data\n",
    "df = pd.read_csv('retail_transaction_dataset.csv')\n",
    "df['TransactionDate'] = pd.to_datetime(df['TransactionDate'])\n"
   ]
  },
  {
   "cell_type": "code",
   "execution_count": 8,
   "metadata": {},
   "outputs": [],
   "source": [
    "\n",
    "# Remove rows with missing CustomerID or PurchaseAmount\n",
    "df = df.dropna(subset=['CustomerID', 'TotalAmount'])\n",
    "\n",
    "# Filter outliers (e.g., purchases < $500)\n",
    "df = df[df['TotalAmount'] < 500]"
   ]
  },
  {
   "cell_type": "code",
   "execution_count": 9,
   "metadata": {},
   "outputs": [],
   "source": [
    "import datetime as dt"
   ]
  },
  {
   "cell_type": "code",
   "execution_count": 10,
   "metadata": {},
   "outputs": [],
   "source": [
    "# Set a snapshot date (e.g., 1 day after the last transaction)\n",
    "snapshot_date = df['TransactionDate'].max() + dt.timedelta(days=1)"
   ]
  },
  {
   "cell_type": "code",
   "execution_count": 12,
   "metadata": {},
   "outputs": [],
   "source": [
    "rfm = df.groupby('CustomerID').agg(\n",
    "    Recency=('TransactionDate', lambda x: (snapshot_date - x.max()).days),\n",
    "    Frequency=('TransactionDate', 'count'),\n",
    "    Monetary=('TotalAmount', 'sum')\n",
    ").reset_index()\n"
   ]
  },
  {
   "cell_type": "code",
   "execution_count": 13,
   "metadata": {},
   "outputs": [],
   "source": [
    "# Rank Recency (lower is better), Frequency and Monetary (higher is better)\n",
    "rfm['R'] = pd.qcut(rfm['Recency'], 5, labels=[5, 4, 3, 2, 1])\n",
    "rfm['F'] = pd.qcut(rfm['Frequency'].rank(method='first'), 5, labels=[1, 2, 3, 4, 5])\n",
    "rfm['M'] = pd.qcut(rfm['Monetary'], 5, labels=[1, 2, 3, 4, 5])\n",
    "\n",
    "# Combine into a single RFM score\n",
    "rfm['RFM_Score'] = rfm['R'].astype(str) + rfm['F'].astype(str) + rfm['M'].astype(str)\n"
   ]
  },
  {
   "cell_type": "code",
   "execution_count": 14,
   "metadata": {},
   "outputs": [
    {
     "name": "stdout",
     "output_type": "stream",
     "text": [
      "       CustomerID  Recency  Frequency    Monetary  R  F  M RFM_Score\n",
      "0              14      267          1  256.232791  2  1  4       214\n",
      "1              49      329          1   21.399047  1  1  1       111\n",
      "2              59       28          2  249.492696  5  5  4       554\n",
      "3              87      252          1   41.515905  2  1  1       211\n",
      "4              96       23          1  194.356816  5  1  3       513\n",
      "...           ...      ...        ...         ... .. .. ..       ...\n",
      "84317      999910      199          1   12.441084  3  5  1       351\n",
      "84318      999931      238          1  105.039745  2  5  2       252\n",
      "84319      999977      301          1   71.135444  1  5  1       151\n",
      "84320      999990      247          1  195.449291  2  5  3       253\n",
      "84321      999997      267          1   75.614248  2  5  2       252\n",
      "\n",
      "[84322 rows x 8 columns]\n"
     ]
    }
   ],
   "source": [
    "print(rfm)\n"
   ]
  },
  {
   "cell_type": "code",
   "execution_count": 15,
   "metadata": {},
   "outputs": [],
   "source": [
    "def rfm_segment(row):\n",
    "    r, f, m = int(row['R']), int(row['F']), int(row['M'])\n",
    "    \n",
    "    if r >= 4 and f >= 4 and m >= 4:\n",
    "        return 'Champions'\n",
    "    elif r >= 4 and f >= 3:\n",
    "        return 'Loyal Customers'\n",
    "    elif r >= 4:\n",
    "        return 'Recent Customers'\n",
    "    elif f >= 4:\n",
    "        return 'Frequent Buyers'\n",
    "    elif m >= 4:\n",
    "        return 'Big Spenders'\n",
    "    elif r <= 2 and f <= 2 and m <= 2:\n",
    "        return 'At Risk'\n",
    "    else:\n",
    "        return 'Others'\n",
    "\n",
    "rfm['Segment'] = rfm.apply(rfm_segment, axis=1)\n"
   ]
  },
  {
   "cell_type": "code",
   "execution_count": 16,
   "metadata": {},
   "outputs": [
    {
     "data": {
      "text/html": [
       "<div>\n",
       "<style scoped>\n",
       "    .dataframe tbody tr th:only-of-type {\n",
       "        vertical-align: middle;\n",
       "    }\n",
       "\n",
       "    .dataframe tbody tr th {\n",
       "        vertical-align: top;\n",
       "    }\n",
       "\n",
       "    .dataframe thead th {\n",
       "        text-align: right;\n",
       "    }\n",
       "</style>\n",
       "<table border=\"1\" class=\"dataframe\">\n",
       "  <thead>\n",
       "    <tr style=\"text-align: right;\">\n",
       "      <th></th>\n",
       "      <th>CustomerID</th>\n",
       "      <th>Recency</th>\n",
       "      <th>Frequency</th>\n",
       "      <th>Monetary</th>\n",
       "      <th>R</th>\n",
       "      <th>F</th>\n",
       "      <th>M</th>\n",
       "      <th>RFM_Score</th>\n",
       "      <th>Segment</th>\n",
       "    </tr>\n",
       "  </thead>\n",
       "  <tbody>\n",
       "    <tr>\n",
       "      <th>0</th>\n",
       "      <td>14</td>\n",
       "      <td>267</td>\n",
       "      <td>1</td>\n",
       "      <td>256.232791</td>\n",
       "      <td>2</td>\n",
       "      <td>1</td>\n",
       "      <td>4</td>\n",
       "      <td>214</td>\n",
       "      <td>Big Spenders</td>\n",
       "    </tr>\n",
       "    <tr>\n",
       "      <th>1</th>\n",
       "      <td>49</td>\n",
       "      <td>329</td>\n",
       "      <td>1</td>\n",
       "      <td>21.399047</td>\n",
       "      <td>1</td>\n",
       "      <td>1</td>\n",
       "      <td>1</td>\n",
       "      <td>111</td>\n",
       "      <td>At Risk</td>\n",
       "    </tr>\n",
       "    <tr>\n",
       "      <th>2</th>\n",
       "      <td>59</td>\n",
       "      <td>28</td>\n",
       "      <td>2</td>\n",
       "      <td>249.492696</td>\n",
       "      <td>5</td>\n",
       "      <td>5</td>\n",
       "      <td>4</td>\n",
       "      <td>554</td>\n",
       "      <td>Champions</td>\n",
       "    </tr>\n",
       "    <tr>\n",
       "      <th>3</th>\n",
       "      <td>87</td>\n",
       "      <td>252</td>\n",
       "      <td>1</td>\n",
       "      <td>41.515905</td>\n",
       "      <td>2</td>\n",
       "      <td>1</td>\n",
       "      <td>1</td>\n",
       "      <td>211</td>\n",
       "      <td>At Risk</td>\n",
       "    </tr>\n",
       "    <tr>\n",
       "      <th>4</th>\n",
       "      <td>96</td>\n",
       "      <td>23</td>\n",
       "      <td>1</td>\n",
       "      <td>194.356816</td>\n",
       "      <td>5</td>\n",
       "      <td>1</td>\n",
       "      <td>3</td>\n",
       "      <td>513</td>\n",
       "      <td>Recent Customers</td>\n",
       "    </tr>\n",
       "  </tbody>\n",
       "</table>\n",
       "</div>"
      ],
      "text/plain": [
       "   CustomerID  Recency  Frequency    Monetary  R  F  M RFM_Score  \\\n",
       "0          14      267          1  256.232791  2  1  4       214   \n",
       "1          49      329          1   21.399047  1  1  1       111   \n",
       "2          59       28          2  249.492696  5  5  4       554   \n",
       "3          87      252          1   41.515905  2  1  1       211   \n",
       "4          96       23          1  194.356816  5  1  3       513   \n",
       "\n",
       "            Segment  \n",
       "0      Big Spenders  \n",
       "1           At Risk  \n",
       "2         Champions  \n",
       "3           At Risk  \n",
       "4  Recent Customers  "
      ]
     },
     "execution_count": 16,
     "metadata": {},
     "output_type": "execute_result"
    }
   ],
   "source": [
    "rfm.head()\n"
   ]
  },
  {
   "cell_type": "code",
   "execution_count": 17,
   "metadata": {},
   "outputs": [
    {
     "data": {
      "text/plain": [
       "Segment\n",
       "Frequent Buyers     19706\n",
       "Loyal Customers     14320\n",
       "Others              13323\n",
       "Recent Customers    13151\n",
       "Big Spenders        11802\n",
       "Champions            6316\n",
       "At Risk              5704\n",
       "Name: count, dtype: int64"
      ]
     },
     "execution_count": 17,
     "metadata": {},
     "output_type": "execute_result"
    }
   ],
   "source": [
    "rfm['Segment'].value_counts()\n"
   ]
  },
  {
   "cell_type": "code",
   "execution_count": 18,
   "metadata": {},
   "outputs": [],
   "source": [
    "rfm.to_csv(\"rfm_table.csv\", index=False)\n"
   ]
  },
  {
   "cell_type": "code",
   "execution_count": 19,
   "metadata": {},
   "outputs": [],
   "source": [
    "df.to_csv(\"Retai_Transactions_Dataset_cleaned.csv\", index=False)\n"
   ]
  },
  {
   "cell_type": "code",
   "execution_count": 5,
   "metadata": {},
   "outputs": [
    {
     "name": "stdout",
     "output_type": "stream",
     "text": [
      "[WinError 2] The system cannot find the file specified: 'Customer_seg_ana'\n",
      "c:\\Users\\PC\\Desktop\\Customer seg ana\\Customer_segmentation_analysis\n"
     ]
    },
    {
     "name": "stderr",
     "output_type": "stream",
     "text": [
      "C:\\Users\\PC\\AppData\\Local\\Packages\\PythonSoftwareFoundation.Python.3.11_qbz5n2kfra8p0\\LocalCache\\local-packages\\Python311\\site-packages\\IPython\\core\\magics\\osm.py:393: UserWarning: This is now an optional IPython functionality, using bookmarks requires you to install the `pickleshare` library.\n",
      "  bkms = self.shell.db.get('bookmarks', {})\n"
     ]
    }
   ],
   "source": [
    "cd Customer_seg_ana"
   ]
  },
  {
   "cell_type": "code",
   "execution_count": 2,
   "metadata": {},
   "outputs": [
    {
     "ename": "SyntaxError",
     "evalue": "invalid syntax (1461585217.py, line 1)",
     "output_type": "error",
     "traceback": [
      "\u001b[1;36m  Cell \u001b[1;32mIn[2], line 1\u001b[1;36m\u001b[0m\n\u001b[1;33m    git init\u001b[0m\n\u001b[1;37m        ^\u001b[0m\n\u001b[1;31mSyntaxError\u001b[0m\u001b[1;31m:\u001b[0m invalid syntax\n"
     ]
    }
   ],
   "source": [
    "git init\n",
    "git add .\n",
    "git commit -m \"Initial commit - RFM segmentation project\"\n"
   ]
  }
 ],
 "metadata": {
  "kernelspec": {
   "display_name": "Python 3",
   "language": "python",
   "name": "python3"
  },
  "language_info": {
   "codemirror_mode": {
    "name": "ipython",
    "version": 3
   },
   "file_extension": ".py",
   "mimetype": "text/x-python",
   "name": "python",
   "nbconvert_exporter": "python",
   "pygments_lexer": "ipython3",
   "version": "3.11.9"
  }
 },
 "nbformat": 4,
 "nbformat_minor": 2
}
